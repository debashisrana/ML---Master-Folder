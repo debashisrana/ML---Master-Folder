{
 "cells": [
  {
   "cell_type": "code",
   "execution_count": 1,
   "metadata": {},
   "outputs": [],
   "source": [
    "from IPython.display import clear_output"
   ]
  },
  {
   "cell_type": "code",
   "execution_count": 2,
   "metadata": {},
   "outputs": [],
   "source": [
    "def display_board(board):\n",
    "    clear_output()\n",
    "    print('    |    | ')\n",
    "    print('  ' + board[7] + ' | ' + board[8] + '  | '+ board[9])\n",
    "    print('    |    | ')\n",
    "    print('-------------')\n",
    "    print('    |    | ')\n",
    "    print('  ' + board[4] + ' | ' + board[5] + '  | '+ board[6])\n",
    "    print('    |    | ')\n",
    "    print('-------------')\n",
    "    print('    |    | ')\n",
    "    print('  ' + board[1] + ' | ' + board[2] + '  | '+ board[3])\n",
    "    print('    |    | ')"
   ]
  },
  {
   "cell_type": "code",
   "execution_count": 3,
   "metadata": {},
   "outputs": [
    {
     "name": "stdout",
     "output_type": "stream",
     "text": [
      "    |    | \n",
      "  X | O  | X\n",
      "    |    | \n",
      "-------------\n",
      "    |    | \n",
      "  O | X  | O\n",
      "    |    | \n",
      "-------------\n",
      "    |    | \n",
      "  X | O  | X\n",
      "    |    | \n"
     ]
    }
   ],
   "source": [
    "test_board = ['#','X','O','X','O','X','O','X','O','X']\n",
    "display_board(test_board)"
   ]
  },
  {
   "cell_type": "code",
   "execution_count": 4,
   "metadata": {},
   "outputs": [],
   "source": [
    "def player_input():\n",
    "    marker = ''\n",
    "    while marker != 'X' or marker != 'O':\n",
    "        marker = input('Player choose your marker X or O: ').upper()\n",
    "        if marker == 'X':\n",
    "            return('X','O')\n",
    "        else:\n",
    "            return('O','X')   "
   ]
  },
  {
   "cell_type": "code",
   "execution_count": 5,
   "metadata": {},
   "outputs": [
    {
     "name": "stdout",
     "output_type": "stream",
     "text": [
      "Player choose your marker X or O: x\n"
     ]
    }
   ],
   "source": [
    "player_1,player_2 = player_input()"
   ]
  },
  {
   "cell_type": "code",
   "execution_count": 6,
   "metadata": {},
   "outputs": [],
   "source": [
    "def place_marker(board,marker,position):\n",
    "    board[position] = marker"
   ]
  },
  {
   "cell_type": "code",
   "execution_count": 16,
   "metadata": {},
   "outputs": [
    {
     "name": "stdout",
     "output_type": "stream",
     "text": [
      "    |    | \n",
      "    |    |  \n",
      "    |    | \n",
      "-------------\n",
      "    |    | \n",
      "    |    | O\n",
      "    |    | \n",
      "-------------\n",
      "    |    | \n",
      "    |    |  \n",
      "    |    | \n"
     ]
    }
   ],
   "source": [
    "# place_marker(test_board,'$',8)\n",
    "display_board(the_board)"
   ]
  },
  {
   "cell_type": "code",
   "execution_count": 23,
   "metadata": {},
   "outputs": [],
   "source": [
    "def win_check(board,mark):\n",
    "    return((board[7]==mark and board[8] == mark and board[9]==mark) or\n",
    "          (board[4]==mark and board[5] == mark and board[6]==mark) or\n",
    "          (board[1]==mark and board[2] == mark and board[3]==mark) or\n",
    "          (board[7]==mark and board[4] == mark and board[1]==mark) or\n",
    "          (board[8]==mark and board[5] == mark and board[2]==mark) or\n",
    "          (board[9]==mark and board[6] == mark and board[3]==mark) or\n",
    "          (board[7]==mark and board[5] == mark and board[3]==mark) or\n",
    "          (board[1]==mark and board[5] == mark and board[9]==mark))"
   ]
  },
  {
   "cell_type": "code",
   "execution_count": 21,
   "metadata": {},
   "outputs": [
    {
     "data": {
      "text/plain": [
       "True"
      ]
     },
     "execution_count": 21,
     "metadata": {},
     "output_type": "execute_result"
    }
   ],
   "source": [
    "# display_board(test_board)\n",
    "win_check(the_board,player2_marker)"
   ]
  },
  {
   "cell_type": "code",
   "execution_count": 10,
   "metadata": {},
   "outputs": [],
   "source": [
    "import random\n",
    "def choose_first():\n",
    "    flip = random.randint(0,1)\n",
    "    \n",
    "    if flip == '0':\n",
    "        return 'Player 1'\n",
    "    else:\n",
    "        return 'Player 2'"
   ]
  },
  {
   "cell_type": "code",
   "execution_count": 11,
   "metadata": {},
   "outputs": [],
   "source": [
    "def space_check(board,position):\n",
    "    return board[position] == ' '\n",
    "    "
   ]
  },
  {
   "cell_type": "code",
   "execution_count": 12,
   "metadata": {},
   "outputs": [],
   "source": [
    "def full_board_check(board):\n",
    "    for i in range(1,10):\n",
    "        if space_check(board,i):\n",
    "            return False\n",
    "    return True"
   ]
  },
  {
   "cell_type": "code",
   "execution_count": 13,
   "metadata": {},
   "outputs": [],
   "source": [
    "def player_choice(board):\n",
    "    position = 0\n",
    "    \n",
    "    while position not in [1,2,3,4,5,6,7,8,9] or not space_check(board,position):\n",
    "        position = int(input('choose a position (1-9): '))\n",
    "        \n",
    "    return position"
   ]
  },
  {
   "cell_type": "code",
   "execution_count": 14,
   "metadata": {},
   "outputs": [],
   "source": [
    "def replay():\n",
    "    choice = input('do you want to play again (yes/no): ')\n",
    "    \n",
    "    return choice =='yes'"
   ]
  },
  {
   "cell_type": "code",
   "execution_count": 27,
   "metadata": {},
   "outputs": [
    {
     "name": "stdout",
     "output_type": "stream",
     "text": [
      "welcome to TIC TAC TOE\n",
      "Player choose your marker X or O: x\n",
      "Player 2 will play first\n",
      "ready to play? y or n: n\n",
      "do you want to play again (yes/no): no\n"
     ]
    }
   ],
   "source": [
    "print('welcome to TIC TAC TOE')\n",
    "while True:\n",
    "    the_board = [' ']*10\n",
    "    player1_marker,player2_marker = player_input()\n",
    "    turn = choose_first()\n",
    "    print(turn + ' will play first')\n",
    "    play_game = input('ready to play? y or n: ')\n",
    "    \n",
    "    if play_game == 'y':\n",
    "        game_on = True\n",
    "    else:\n",
    "        game_on = False\n",
    "        \n",
    "    while game_on:\n",
    "        if turn == 'Player 1':\n",
    "            display_board(the_board)\n",
    "            position = player_choice(the_board)\n",
    "            place_marker(the_board,player1_marker,position)\n",
    "            \n",
    "            if win_check(the_board,player1_marker):\n",
    "                display_board(the_board)\n",
    "                print('player1 win !!!')\n",
    "                game_on=False\n",
    "            else:\n",
    "                if full_board_check(the_board):\n",
    "                    display_board(the_board)\n",
    "                    print('Game is Tie!!!')\n",
    "                    game_on =False\n",
    "                else:\n",
    "                    turn ='Player 2'\n",
    "                    \n",
    "        else:\n",
    "            display_board(the_board)\n",
    "            position = player_choice(the_board)\n",
    "            place_marker(the_board,player2_marker,position)\n",
    "            \n",
    "            if win_check(the_board,player2_marker):\n",
    "                display_board(the_board)\n",
    "                print('player2 win !!!')\n",
    "                game_on=False\n",
    "            else:\n",
    "                if full_board_check(the_board):\n",
    "                    display_board(the_board)\n",
    "                    print('Game is Tie!!!')\n",
    "                    game_on =False\n",
    "                else:\n",
    "                    turn ='Player 1'\n",
    "\n",
    "                    \n",
    "    if not replay():\n",
    "        break\n",
    "\n",
    "        \n",
    "    "
   ]
  }
 ],
 "metadata": {
  "kernelspec": {
   "display_name": "Python 3",
   "language": "python",
   "name": "python3"
  },
  "language_info": {
   "codemirror_mode": {
    "name": "ipython",
    "version": 3
   },
   "file_extension": ".py",
   "mimetype": "text/x-python",
   "name": "python",
   "nbconvert_exporter": "python",
   "pygments_lexer": "ipython3",
   "version": "3.7.1"
  }
 },
 "nbformat": 4,
 "nbformat_minor": 2
}
